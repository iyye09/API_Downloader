{
 "cells": [
  {
   "cell_type": "code",
   "execution_count": null,
   "metadata": {},
   "outputs": [],
   "source": [
    "import csv\n",
    "import json\n",
    "import openpyxl\n",
    "import xml.etree.ElementTree as ET\n",
    "import psycopg2\n",
    "import requests\n",
    "from PyQt5.QtWidgets import (\n",
    "    QApplication, QWidget, QLabel, QLineEdit, QPushButton, \n",
    "    QTableWidget, QHeaderView, QTableWidgetItem, QMessageBox, \n",
    "    QInputDialog, QHBoxLayout, QVBoxLayout, QFileDialog, QAbstractItemView, QAction, QMenu\n",
    ")\n",
    "from PyQt5.QtCore import Qt\n"
   ]
  }
 ],
 "metadata": {
  "kernelspec": {
   "display_name": "Python 3",
   "language": "python",
   "name": "python3"
  },
  "language_info": {
   "name": "python",
   "version": "3.9.5"
  }
 },
 "nbformat": 4,
 "nbformat_minor": 2
}
